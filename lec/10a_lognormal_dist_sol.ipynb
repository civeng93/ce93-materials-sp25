{
 "cells": [
  {
   "cell_type": "markdown",
   "id": "fa1d1764",
   "metadata": {},
   "source": [
    "# Engineering Data Analysis\n",
    "\n",
    "> **Mohamad M. Hallal, PhD** <br> Teaching Professor, UC Berkeley\n",
    "\n",
    "[![License](https://img.shields.io/badge/license-CC%20BY--NC--ND%204.0-blue)](https://creativecommons.org/licenses/by-nc-nd/4.0/)\n",
    "***"
   ]
  },
  {
   "cell_type": "markdown",
   "id": "0c1b78be",
   "metadata": {},
   "source": [
    "# Lognormal Distribution\n",
    "\n",
    "In this notebook, we will explore a common continuous distribution known as the lognormal distribution. The lognormal distribution is used for modeling various natural phenomena such as income, amount of rainfall, length of chess games, stock prices, and many others. Due to its mathematical nature, the lognormal distribution can be confusing. So, we'll try to break it down to understand its properties, parameters, and its relation to the normal distribution. \n",
    "\n",
    "Let's get started!"
   ]
  },
  {
   "cell_type": "markdown",
   "id": "76115dec",
   "metadata": {},
   "source": [
    "## Basic Properties\n",
    "\n",
    "At this stage, you're likely familiar with the normal distribution. \n",
    "\n",
    "<div class=\"alert alert-block alert-warning\"> <b>DISCUSS!</b> What are some of the properties of the normal distribution? Specifically: <br> <b>Is it skewed left, symmetric, or skewed right?</b> \n",
    "    <br> <b>What is the range of values of a normal distribution?</b>\n",
    "    <br> <b>What are the key parameters that define a normal distribution?</b>\n",
    "    <br> <b>How are the mean and median related?</b></div> \n",
    "\n",
    "You can think of the lognormal distribution as a close relative of the normal distribution. It is related to the normal distribution but with some modifications.\n",
    "\n",
    "<div class=\"alert alert-block alert-warning\"> <b>DISCUSS!</b> We mentioned above that various natural phenomena generally follow a lognormal distribution. What are some properties of these examples (income, amount of rainfall, length of a chess game, stock prices)? Specifically: <br> <b>Do you expect these datasets to be skewed left, symmetric, or skewed right?</b> \n",
    "    <br> <b>What is the range of values of these examples? Can they take negative values?</b></div> \n",
    "    \n",
    "Let's explore an actual dataset to better answer these questions and understand key properties of lognormal distributions."
   ]
  },
  {
   "cell_type": "markdown",
   "id": "f33a0a47",
   "metadata": {},
   "source": [
    "## Dataset\n",
    "\n",
    "We will investigate NVIDIA's historical stock price dataset, specifically, the daily trading volume. \n",
    "\n",
    "> In capital markets, volume, or trading volume, is the amount of a security that was traded during a given period of time. In the context of a single stock trading on a stock exchange, the volume is commonly reported as the number of shares that changed hands during a given day. [Source](https://en.wikipedia.org/wiki/Volume_(finance))\n",
    "\n",
    "Let's load the provided data set `NVDA.csv`. These are all the features:\n",
    "\n",
    "| Feature  | Units | Description                            |\n",
    "| :-       | :-    | :-                                     |\n",
    "| Date     |       | Day of the year                        |\n",
    "| Open     | \\$    | Opening price of the stock that day    |\n",
    "| High     | \\$    | Highest price of the stock that day    |\n",
    "| Low      | \\$    | Lowest price of the stock that day     |\n",
    "| Close    | \\$    | Closing price of the stock that day    |\n",
    "| Volume   |       | Total number of shared traded that day |\n",
    "\n",
    "Run the cell below, which reads the data and saves it as a variable named `data` and then extracts the trading volume and saves it as a variable named `Volume`."
   ]
  },
  {
   "cell_type": "code",
   "execution_count": 2,
   "id": "59af1f0a",
   "metadata": {},
   "outputs": [
    {
     "data": {
      "text/html": [
       "<div>\n",
       "<style scoped>\n",
       "    .dataframe tbody tr th:only-of-type {\n",
       "        vertical-align: middle;\n",
       "    }\n",
       "\n",
       "    .dataframe tbody tr th {\n",
       "        vertical-align: top;\n",
       "    }\n",
       "\n",
       "    .dataframe thead th {\n",
       "        text-align: right;\n",
       "    }\n",
       "</style>\n",
       "<table border=\"1\" class=\"dataframe\">\n",
       "  <thead>\n",
       "    <tr style=\"text-align: right;\">\n",
       "      <th></th>\n",
       "      <th>Date</th>\n",
       "      <th>Open</th>\n",
       "      <th>High</th>\n",
       "      <th>Low</th>\n",
       "      <th>Close</th>\n",
       "      <th>Volume</th>\n",
       "    </tr>\n",
       "  </thead>\n",
       "  <tbody>\n",
       "    <tr>\n",
       "      <th>0</th>\n",
       "      <td>1/3/2000</td>\n",
       "      <td>0.098437</td>\n",
       "      <td>0.099219</td>\n",
       "      <td>0.091927</td>\n",
       "      <td>0.097526</td>\n",
       "      <td>300912000</td>\n",
       "    </tr>\n",
       "    <tr>\n",
       "      <th>1</th>\n",
       "      <td>1/4/2000</td>\n",
       "      <td>0.095833</td>\n",
       "      <td>0.096094</td>\n",
       "      <td>0.090104</td>\n",
       "      <td>0.094922</td>\n",
       "      <td>300480000</td>\n",
       "    </tr>\n",
       "    <tr>\n",
       "      <th>2</th>\n",
       "      <td>1/5/2000</td>\n",
       "      <td>0.092188</td>\n",
       "      <td>0.093750</td>\n",
       "      <td>0.090495</td>\n",
       "      <td>0.091797</td>\n",
       "      <td>188352000</td>\n",
       "    </tr>\n",
       "    <tr>\n",
       "      <th>3</th>\n",
       "      <td>1/6/2000</td>\n",
       "      <td>0.091797</td>\n",
       "      <td>0.091797</td>\n",
       "      <td>0.082292</td>\n",
       "      <td>0.085807</td>\n",
       "      <td>120480000</td>\n",
       "    </tr>\n",
       "    <tr>\n",
       "      <th>4</th>\n",
       "      <td>1/7/2000</td>\n",
       "      <td>0.085417</td>\n",
       "      <td>0.088151</td>\n",
       "      <td>0.084115</td>\n",
       "      <td>0.087240</td>\n",
       "      <td>71184000</td>\n",
       "    </tr>\n",
       "  </tbody>\n",
       "</table>\n",
       "</div>"
      ],
      "text/plain": [
       "       Date      Open      High       Low     Close     Volume\n",
       "0  1/3/2000  0.098437  0.099219  0.091927  0.097526  300912000\n",
       "1  1/4/2000  0.095833  0.096094  0.090104  0.094922  300480000\n",
       "2  1/5/2000  0.092188  0.093750  0.090495  0.091797  188352000\n",
       "3  1/6/2000  0.091797  0.091797  0.082292  0.085807  120480000\n",
       "4  1/7/2000  0.085417  0.088151  0.084115  0.087240   71184000"
      ]
     },
     "execution_count": 2,
     "metadata": {},
     "output_type": "execute_result"
    }
   ],
   "source": [
    "import pandas as pd\n",
    "\n",
    "# Load dataset\n",
    "data = pd.read_csv('resources/NVDA.csv')\n",
    "\n",
    "# extract volume data\n",
    "Volume = data['Volume']\n",
    "\n",
    "# Display the first few rows of the data using the head() method\n",
    "data.head()"
   ]
  },
  {
   "cell_type": "markdown",
   "id": "e50aaf8b",
   "metadata": {},
   "source": [
    "Let's first visually examine the distribution of the trading volume. Note that the data has been extracted and saved as variable `Volume`.\n",
    "\n",
    "<div class=\"alert alert-block alert-info\"> <b>YOUR TURN!</b> Compute the mean and the median of the trading volume.</div>\n",
    "\n",
    "*Hint: Recall that you can compute descriptive statistics using methods such as `DataFrame.mean()` and `DataFrame.median()`, where `DataFrame` should be replaced with the name of your dataset (`Volume` in this case).*"
   ]
  },
  {
   "cell_type": "code",
   "execution_count": 4,
   "id": "3b3a1edb",
   "metadata": {},
   "outputs": [
    {
     "name": "stdout",
     "output_type": "stream",
     "text": [
      "Mean:   6.19e+08\n",
      "Median: 5.17e+08\n"
     ]
    }
   ],
   "source": [
    "import matplotlib.pyplot as plt\n",
    "import numpy as np\n",
    "\n",
    "# compute mean and median of Volume\n",
    "mean = Volume.mean()\n",
    "median = Volume.median()\n",
    "\n",
    "print(f'Mean:   {mean:.2e}')\n",
    "print(f'Median: {median:.2e}')"
   ]
  },
  {
   "cell_type": "markdown",
   "id": "cf643277-8fb5-4244-8ead-c5d4b3e1747d",
   "metadata": {},
   "source": [
    "Below, we have provided you with a code to plot the mean and median as vertical lines.\n",
    "\n",
    "<div class=\"alert alert-block alert-info\"> <b>YOUR TURN!</b> Modify the code to create a histogram of the trading volume using 80 bins.</div>\n",
    "\n",
    "*Hint: Recall that you can create a histogram using `plt.hist(data, bins=...)`, where `data` should be replaced by the name of your dataset (`Volume` in this case).*"
   ]
  },
  {
   "cell_type": "code",
   "execution_count": 6,
   "id": "ebb0f8fb-2c7c-4e51-b26b-39c27759ac95",
   "metadata": {},
   "outputs": [
    {
     "data": {
      "image/png": "[encoded data removed]",
      "text/plain": [
       "<Figure size 640x480 with 1 Axes>"
      ]
     },
     "metadata": {},
     "output_type": "display_data"
    }
   ],
   "source": [
    "# plot the mean and median as vertical lines\n",
    "plt.vlines(mean, 0, 1200, color='r', label='Mean')\n",
    "plt.vlines(median, 0, 1200, color='c', ls='--', label='Median')\n",
    "\n",
    "# add legend\n",
    "plt.legend()\n",
    "\n",
    "# plot the histogram\n",
    "plt.hist(Volume, bins=80)\n",
    "\n",
    "# label the axes\n",
    "plt.ylabel('Frequency')\n",
    "plt.xlabel('Trading Volume')\n",
    "\n",
    "# control axes limits\n",
    "plt.xlim(0, 3*10**9)\n",
    "plt.ylim(0, 1200)\n",
    "\n",
    "plt.show()"
   ]
  },
  {
   "cell_type": "markdown",
   "id": "7cb23d4a",
   "metadata": {},
   "source": [
    "<div class=\"alert alert-block alert-warning\"> <b>DISCUSS!</b> What do you observe from the plot above? Specifically: <br> <b>What is the range of values of this dataset?</b> \n",
    "    <br> <b>Is it skewed left, symmetric, or skewed right?</b>\n",
    "    <br> <b>How does the mean relate to the median?</b></div>\n",
    "    \n",
    "The trading volume dataset follows a lognormal distribution, so your answers to the above questions are general properties of the lognormal distribution. Specifically, the lognormal distribution describes data that:\n",
    "1. Can only take positive values $(0, +\\infty)$\n",
    "2. Are skewed right"
   ]
  },
  {
   "cell_type": "markdown",
   "id": "a2d8dbbe",
   "metadata": {},
   "source": [
    "## Relation to Normal Distribution\n",
    "\n",
    "The name **log**normal reveals that it relates to logarithms as well as the normal distribution. So let's explore this relation.\n",
    "\n",
    "We will transform the volume trading dataset and see if we obtain one of the common distributions that we already encountered. \n",
    "\n",
    "Specifically, let's take the natural logarithm of the volume trading dataset and check its distribution.\n",
    "\n",
    "The code below computes the natural logarithm of the volume trading dataset and saves it as variable `log_Volume`. Then, the code computes the mean and the median of `log_Volume`."
   ]
  },
  {
   "cell_type": "code",
   "execution_count": 8,
   "id": "76e585a1-2108-4ccb-b3a2-3cee09fcec89",
   "metadata": {},
   "outputs": [
    {
     "name": "stdout",
     "output_type": "stream",
     "text": [
      "Mean of log(Volume):   2.01e+01\n",
      "Median of log(Volume): 2.01e+01\n"
     ]
    }
   ],
   "source": [
    "# compute natural log of Volume\n",
    "log_Volume = np.log(Volume)\n",
    "\n",
    "# compute mean and median of log(Volume)\n",
    "log_mean = log_Volume.mean()\n",
    "log_median = log_Volume.median()\n",
    "\n",
    "print(f'Mean of log(Volume):   {log_mean:.2e}')\n",
    "print(f'Median of log(Volume): {log_median:.2e}')"
   ]
  },
  {
   "cell_type": "markdown",
   "id": "23222825-f08e-4ac4-b5c3-fbb93c47f2b2",
   "metadata": {},
   "source": [
    "Below, we have provided you with a code to plot the mean and median of `log_Volume` as vertical lines.\n",
    "\n",
    "<div class=\"alert alert-block alert-info\"> <b>YOUR TURN!</b> Modify the code to create a histogram of <code>log_Volume</code> using 23 bins.</div>"
   ]
  },
  {
   "cell_type": "code",
   "execution_count": 10,
   "id": "da8273e8-03ea-4219-b035-bd4f3b5fa182",
   "metadata": {},
   "outputs": [
    {
     "data": {
      "image/png": "[encoded data removed]",
      "text/plain": [
       "<Figure size 640x480 with 1 Axes>"
      ]
     },
     "metadata": {},
     "output_type": "display_data"
    }
   ],
   "source": [
    "# plot the mean and median as vertical lines\n",
    "plt.vlines(log_mean, 0, 1200, color='r', label='Mean')\n",
    "plt.vlines(log_median, 0, 1200, color='c', ls='--', label='Median')\n",
    "\n",
    "# add legend\n",
    "plt.legend()\n",
    "\n",
    "# plot the histogram\n",
    "plt.hist(log_Volume, bins=23)\n",
    "\n",
    "# label the axes\n",
    "plt.xlabel('log(Volume)')\n",
    "plt.ylabel('Frequency')\n",
    "\n",
    "# control axes\n",
    "plt.ylim((0, 1200))\n",
    "\n",
    "plt.show()"
   ]
  },
  {
   "cell_type": "markdown",
   "id": "24b146f4",
   "metadata": {},
   "source": [
    "<div class=\"alert alert-block alert-warning\"> <b>DISCUSS!</b> What do you observe from the plot above? Specifically: <br> <b>Is the log(Volume) dataset skewed left, symmetric, or skewed right?</b>\n",
    "    <br> <b>How does the mean relate to the median of log(Volume)?</b>\n",
    "    <br> <b>Does this look like one of the common distributions that we already discussed?</b></div>\n",
    "    \n",
    "We previously mentioned that the trading volume dataset follows a lognormal distribution.\n",
    "\n",
    "<div class=\"alert alert-block alert-warning\"> <b>DISCUSS!</b> Based on the above observations, continue the following statement: <br> <b>If $X$ follows a lognormal distribution, then $Y=\\log(X)$ follows a ______ distribution.</b></div>"
   ]
  },
  {
   "cell_type": "markdown",
   "id": "a10c3605",
   "metadata": {},
   "source": [
    "## Parameters\n",
    "\n",
    "The probability density function of the lognormal distribution is given by:\n",
    "\n",
    "$$f(x; \\mu, \\sigma) = \\frac{1}{x\\sigma\\sqrt{2\\pi}} \\exp\\left(-\\frac{(\\log x - \\mu)^2}{2\\sigma^2}\\right) \\quad \\text{for } x > 0$$\n",
    "\n",
    "As you can see, the lognormal distribution has two parameters, $\\mu$ and $\\sigma$. We generally use $\\mu$ and $\\sigma$ to represent the mean and standard deviation of a dataset, respectively. However, these parameters might not be what you expect. So let's try to find out what are the parameters of the lognormal distribution.\n",
    "\n",
    "Below, we have provided you with a function that computes the PDF of the lognormal distribution based on the equation above. **Run the cell below to define the function.** Do not modify the cell, only run it."
   ]
  },
  {
   "cell_type": "code",
   "execution_count": 12,
   "id": "ccece4df",
   "metadata": {},
   "outputs": [],
   "source": [
    "lognorm = lambda x, mu, sigma: 1/(x*sigma*np.sqrt(2*np.pi)) * np.exp(-(np.log(x)-mu)**2/(2*sigma**2))"
   ]
  },
  {
   "cell_type": "markdown",
   "id": "e791e781",
   "metadata": {},
   "source": [
    "Next, we'll try to plot the density histogram of the trading volume data and the PDF of the lognormal distribution to see which parameters give a PDF that matches the density histogram.\n",
    "\n",
    "We have already provided you with the entire code. The code does the following:\n",
    "1. Plots the PDF of the lognormal distribution using the mean and standard deviation of `Volume` as parameters\n",
    "2. Plots the PDF of the lognormal distribution using the mean and standard deviation of `log_Volume` as parameters\n",
    "   \n",
    "<div class=\"alert alert-block alert-warning\"> <b>DISCUSS!</b> After running the code cell below, which $\\mu$ and $\\sigma$ values provide a better fit for the lognormal distribution? What does this tell you about the parameters of the lognormal distribution? Are they the mean and the standard deviation of the random variable? Or are they the mean and standard deviation of its logarithm?</div>"
   ]
  },
  {
   "cell_type": "code",
   "execution_count": 14,
   "id": "a64d9f4b",
   "metadata": {},
   "outputs": [
    {
     "data": {
      "image/png": "[encoded data removed]",
      "text/plain": [
       "<Figure size 640x480 with 1 Axes>"
      ]
     },
     "metadata": {},
     "output_type": "display_data"
    }
   ],
   "source": [
    "# compute mean and stdev of Volume\n",
    "mean = Volume.mean()\n",
    "stdev = Volume.std()\n",
    "\n",
    "# compute mean and stdev of log(Volume)\n",
    "log_mean = log_Volume.mean()\n",
    "log_stdev = log_Volume.std()\n",
    "\n",
    "# plot density histogram of Volume data\n",
    "plt.hist(Volume, bins=80, density=True)\n",
    "\n",
    "# compute PDF\n",
    "x = np.arange(1,3*10**9,10**3)\n",
    "density1 = lognorm(x, mu=mean, sigma=stdev)\n",
    "density2 = lognorm(x, mu=log_mean, sigma=log_stdev)\n",
    "\n",
    "# plot theoretical density function\n",
    "plt.plot(x, density1, c='r', label=r'$\\mu$=mean, $\\sigma$=stdev', lw=3)\n",
    "plt.plot(x, density2, c='c', label=r'$\\mu$=log_mean, $\\sigma$=log_stdev', lw=3)\n",
    "\n",
    "# add legend\n",
    "plt.legend()\n",
    "\n",
    "# label axes\n",
    "plt.xlabel('Trading Volume')\n",
    "plt.ylabel('Density')\n",
    "\n",
    "# control axes\n",
    "plt.xlim((0,3*10**9))\n",
    "\n",
    "plt.show()"
   ]
  }
 ],
 "metadata": {
  "kernelspec": {
   "display_name": "Python 3 (ipykernel)",
   "language": "python",
   "name": "python3"
  },
  "language_info": {
   "codemirror_mode": {
    "name": "ipython",
    "version": 3
   },
   "file_extension": ".py",
   "mimetype": "text/x-python",
   "name": "python",
   "nbconvert_exporter": "python",
   "pygments_lexer": "ipython3",
   "version": "3.12.4"
  },
  "widgets": {
   "application/vnd.jupyter.widget-state+json": {
    "state": {},
    "version_major": 2,
    "version_minor": 0
   }
  }
 },
 "nbformat": 4,
 "nbformat_minor": 5
}
