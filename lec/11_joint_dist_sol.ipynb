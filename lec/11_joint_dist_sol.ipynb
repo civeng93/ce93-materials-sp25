{
 "cells": [
  {
   "cell_type": "markdown",
   "id": "6d3ff535",
   "metadata": {},
   "source": [
    "# Engineering Data Analysis\n",
    "\n",
    "> **Mohamad M. Hallal, PhD** <br> Teaching Professor, UC Berkeley\n",
    "\n",
    "[![License](https://img.shields.io/badge/license-CC%20BY--NC--ND%204.0-blue)](https://creativecommons.org/licenses/by-nc-nd/4.0/)\n",
    "***"
   ]
  },
  {
   "cell_type": "markdown",
   "id": "c08b5010",
   "metadata": {},
   "source": [
    "# Covariance and Correlation\n",
    "\n",
    "In this notebook, we will explore how to compute covariance and correlation using Python. These statistical measures help to understand the relationship between two variables. We will use `numpy` for these calculations.\n",
    "\n",
    "Let's get started!"
   ]
  },
  {
   "cell_type": "markdown",
   "id": "796d6ede",
   "metadata": {},
   "source": [
    "# Dataset\n",
    "\n",
    "Let's load the provided data set `NVDA.csv`. These are all the features:\n",
    "\n",
    "| Feature  | Units | Description                            |\n",
    "| :-       | :-    | :-                                     |\n",
    "| Date     |       | Day of the year                        |\n",
    "| Open     | \\$    | Opening price of the stock that day    |\n",
    "| High     | \\$    | Highest price of the stock that day    |\n",
    "| Low      | \\$    | Lowest price of the stock that day     |\n",
    "| Close    | \\$    | Closing price of the stock that day    |\n",
    "| Volume   |       | Total number of shared traded that day |\n",
    "\n",
    "Run the cell below, which reads the data and saves it as a variable named `data`."
   ]
  },
  {
   "cell_type": "code",
   "execution_count": 1,
   "id": "946f9a79",
   "metadata": {},
   "outputs": [
    {
     "data": {
      "text/html": [
       "<div>\n",
       "<style scoped>\n",
       "    .dataframe tbody tr th:only-of-type {\n",
       "        vertical-align: middle;\n",
       "    }\n",
       "\n",
       "    .dataframe tbody tr th {\n",
       "        vertical-align: top;\n",
       "    }\n",
       "\n",
       "    .dataframe thead th {\n",
       "        text-align: right;\n",
       "    }\n",
       "</style>\n",
       "<table border=\"1\" class=\"dataframe\">\n",
       "  <thead>\n",
       "    <tr style=\"text-align: right;\">\n",
       "      <th></th>\n",
       "      <th>Date</th>\n",
       "      <th>Open</th>\n",
       "      <th>High</th>\n",
       "      <th>Low</th>\n",
       "      <th>Close</th>\n",
       "      <th>Volume</th>\n",
       "    </tr>\n",
       "  </thead>\n",
       "  <tbody>\n",
       "    <tr>\n",
       "      <th>0</th>\n",
       "      <td>1/3/2000</td>\n",
       "      <td>0.098437</td>\n",
       "      <td>0.099219</td>\n",
       "      <td>0.091927</td>\n",
       "      <td>0.097526</td>\n",
       "      <td>300912000</td>\n",
       "    </tr>\n",
       "    <tr>\n",
       "      <th>1</th>\n",
       "      <td>1/4/2000</td>\n",
       "      <td>0.095833</td>\n",
       "      <td>0.096094</td>\n",
       "      <td>0.090104</td>\n",
       "      <td>0.094922</td>\n",
       "      <td>300480000</td>\n",
       "    </tr>\n",
       "    <tr>\n",
       "      <th>2</th>\n",
       "      <td>1/5/2000</td>\n",
       "      <td>0.092188</td>\n",
       "      <td>0.093750</td>\n",
       "      <td>0.090495</td>\n",
       "      <td>0.091797</td>\n",
       "      <td>188352000</td>\n",
       "    </tr>\n",
       "    <tr>\n",
       "      <th>3</th>\n",
       "      <td>1/6/2000</td>\n",
       "      <td>0.091797</td>\n",
       "      <td>0.091797</td>\n",
       "      <td>0.082292</td>\n",
       "      <td>0.085807</td>\n",
       "      <td>120480000</td>\n",
       "    </tr>\n",
       "    <tr>\n",
       "      <th>4</th>\n",
       "      <td>1/7/2000</td>\n",
       "      <td>0.085417</td>\n",
       "      <td>0.088151</td>\n",
       "      <td>0.084115</td>\n",
       "      <td>0.087240</td>\n",
       "      <td>71184000</td>\n",
       "    </tr>\n",
       "  </tbody>\n",
       "</table>\n",
       "</div>"
      ],
      "text/plain": [
       "       Date      Open      High       Low     Close     Volume\n",
       "0  1/3/2000  0.098437  0.099219  0.091927  0.097526  300912000\n",
       "1  1/4/2000  0.095833  0.096094  0.090104  0.094922  300480000\n",
       "2  1/5/2000  0.092188  0.093750  0.090495  0.091797  188352000\n",
       "3  1/6/2000  0.091797  0.091797  0.082292  0.085807  120480000\n",
       "4  1/7/2000  0.085417  0.088151  0.084115  0.087240   71184000"
      ]
     },
     "execution_count": 1,
     "metadata": {},
     "output_type": "execute_result"
    }
   ],
   "source": [
    "import pandas as pd\n",
    "\n",
    "# Load dataset\n",
    "data = pd.read_csv('resources/NVDA.csv')\n",
    "\n",
    "# Extract Close and Open Price and Volume\n",
    "close = data['Close']\n",
    "open = data['Open']\n",
    "volume = data['Volume']\n",
    "\n",
    "# Display the first few rows of the data using the head() method\n",
    "data.head()"
   ]
  },
  {
   "cell_type": "markdown",
   "id": "af36aff2",
   "metadata": {},
   "source": [
    "Let's first visually examine if there is any relationship between the opening and closing daily stock price. \n",
    "\n",
    "<div class=\"alert alert-block alert-info\"> <b>YOUR TURN!</b> Create a scatter plot of the closing (y) versus opening (x) price. Label the axes.</div> "
   ]
  },
  {
   "cell_type": "code",
   "execution_count": 2,
   "id": "3152db9c",
   "metadata": {},
   "outputs": [
    {
     "data": {
      "image/png": "[encoded data removed]",
      "text/plain": [
       "<Figure size 640x480 with 1 Axes>"
      ]
     },
     "metadata": {},
     "output_type": "display_data"
    }
   ],
   "source": [
    "import matplotlib.pyplot as plt\n",
    "\n",
    "# plot the scatter plot\n",
    "plt.scatter(open, close)\n",
    "\n",
    "# label the axes\n",
    "plt.xlabel('Opening Price ($)')\n",
    "plt.ylabel('Closing Price ($)')\n",
    "\n",
    "plt.show()"
   ]
  },
  {
   "cell_type": "markdown",
   "id": "9217b202",
   "metadata": {},
   "source": [
    "<div class=\"alert alert-block alert-warning\"> <b>DISCUSS!</b> <b>What does the scatter plot tell you about the relationship between the closing and opening price?</b></div> "
   ]
  },
  {
   "cell_type": "markdown",
   "id": "655b6f6c",
   "metadata": {},
   "source": [
    "# Covariance\n",
    "\n",
    "Covariance is a measure of the joint variability of two random variables. It indicates the direction of the linear relationship between the variables. A positive covariance indicates that the variables tend to move in the same direction, while a negative covariance indicates that they tend to move in opposite directions.\n",
    "\n",
    "In the lecture, we only discussed the covariance between two random variables: $Cov(X,Y)$. We can also compute something known as the covariance **matrix**. `Python` provides a direct way to compute the covariance **matrix** using `np.cov(X,Y)`, which returns:\n",
    "\n",
    "\\begin{bmatrix}\n",
    "Var(X) & Cov(X,Y)\\\\\n",
    "Cov(Y,X) & Var(Y)\n",
    "\\end{bmatrix}\n",
    "\n",
    "The diagonal elements of the matrix contain the variances of the variables, and the off-diagonal elements contain the covariances between all possible pairs of variables. We mentioned in the lecture that $Cov(X,Y)=Cov(Y,X)$. So, the off-diagonal values will be equal.\n",
    "\n",
    "The covariance matrix shows the covariance between each pair of variables, including that of the variable with itself.\n",
    "\n",
    "<div class=\"alert alert-block alert-info\"> <b>YOUR TURN!</b> Compute the covariance matrix between the opening and closing daily stock price. Then, extract the covariance between the two variables.</div> \n",
    "\n",
    "<div class=\"alert alert-block alert-warning\"> <b>DISCUSS!</b> <b>Interpret the value of the covariance.</b></div> "
   ]
  },
  {
   "cell_type": "code",
   "execution_count": 3,
   "id": "223795a0",
   "metadata": {},
   "outputs": [
    {
     "name": "stdout",
     "output_type": "stream",
     "text": [
      "Covariance matrix: \n",
      " [[313.25901577 312.96041845]\n",
      " [312.96041845 312.9398681 ]] \n",
      "\n"
     ]
    }
   ],
   "source": [
    "import numpy as np\n",
    "\n",
    "# compute covariance matrix\n",
    "cov_matrix = np.cov(open, close)\n",
    "print(f'Covariance matrix: \\n {cov_matrix} \\n')"
   ]
  },
  {
   "cell_type": "code",
   "execution_count": 4,
   "id": "559871f7-f52c-46a7-88f6-c020b6c51c04",
   "metadata": {},
   "outputs": [
    {
     "name": "stdout",
     "output_type": "stream",
     "text": [
      "Covariance: $^2 312.96\n"
     ]
    }
   ],
   "source": [
    "# get cov(X,Y)\n",
    "cov = cov_matrix[0, 1]\n",
    "print(f'Covariance: $^2 {cov:.2f}')"
   ]
  },
  {
   "cell_type": "markdown",
   "id": "5ea7177c",
   "metadata": {},
   "source": [
    "<div class=\"alert alert-block alert-info\"> <b>YOUR TURN!</b> Compute the covariance matrix between the opening stock price and daily trading volume. Then, extract the covariance between the two variables.</div> \n",
    "\n",
    "<div class=\"alert alert-block alert-warning\"> <b>DISCUSS!</b> <b>Interpret the value of the covariance.</b></div> "
   ]
  },
  {
   "cell_type": "code",
   "execution_count": 5,
   "id": "19369656",
   "metadata": {},
   "outputs": [
    {
     "name": "stdout",
     "output_type": "stream",
     "text": [
      "Covariance matrix: \n",
      " [[ 3.13259016e+02 -1.06507377e+09]\n",
      " [-1.06507377e+09  1.84744857e+17]] \n",
      "\n"
     ]
    }
   ],
   "source": [
    "# compute covariance matrix\n",
    "cov_matrix = np.cov(open, volume)\n",
    "print(f'Covariance matrix: \\n {cov_matrix} \\n')"
   ]
  },
  {
   "cell_type": "code",
   "execution_count": 6,
   "id": "bc993eee-cecb-4294-8294-41125a18cb70",
   "metadata": {},
   "outputs": [
    {
     "name": "stdout",
     "output_type": "stream",
     "text": [
      "Covariance: $ x shares -1065073774.34\n"
     ]
    }
   ],
   "source": [
    "# get cov(X,Y)\n",
    "cov = cov_matrix[0, 1]\n",
    "print(f'Covariance: $ x shares {cov:.2f}')"
   ]
  },
  {
   "cell_type": "markdown",
   "id": "23d0950b",
   "metadata": {},
   "source": [
    "# Correlation\n",
    "\n",
    "Correlation is a standardized measure of the linear relationship between two variables. It ranges from -1 to 1, where -1 indicates a perfect negative linear relationship, 1 indicates a perfect positive linear relationship, and 0 indicates no linear relationship.\n",
    "\n",
    "`Python` also provides a direct way to compute the correlation **matrix** using `np.corrcoef(X,Y)`, which returns:\n",
    "\n",
    "\\begin{bmatrix}\n",
    "1 & \\rho_{XY}\\\\\n",
    "\\rho_{YX} & 1\n",
    "\\end{bmatrix}\n",
    "\n",
    "The diagonal elements of the matrix contain the correlation of the variables with themselves (which is 1), and the off-diagonal elements contain the correlation coefficients between all possible pairs of variables.\n",
    "\n",
    "The correlation matrix shows the correlation between each pair of variables, including that of the variable with itself.\n",
    "\n",
    "<div class=\"alert alert-block alert-info\"> <b>YOUR TURN!</b> Compute the correlation matrix between the opening and closing daily stock price. Then, extract the correlation between the two variables.</div>\n",
    "\n",
    "<div class=\"alert alert-block alert-warning\"> <b>DISCUSS!</b> <b>Interpret the value of the correlation coefficient.</b></div> "
   ]
  },
  {
   "cell_type": "code",
   "execution_count": 7,
   "id": "4d948c80",
   "metadata": {},
   "outputs": [
    {
     "name": "stdout",
     "output_type": "stream",
     "text": [
      "Correlation matrix: \n",
      " [[1.         0.99955611]\n",
      " [0.99955611 1.        ]] \n",
      "\n"
     ]
    }
   ],
   "source": [
    "# compute correlation matrix\n",
    "cor_matrix = np.corrcoef(open, close)\n",
    "print(f'Correlation matrix: \\n {cor_matrix} \\n')"
   ]
  },
  {
   "cell_type": "code",
   "execution_count": 8,
   "id": "0277b36d-7f4d-4779-abec-b92b925d33c9",
   "metadata": {},
   "outputs": [
    {
     "name": "stdout",
     "output_type": "stream",
     "text": [
      "Correlation: 0.9996\n"
     ]
    }
   ],
   "source": [
    "# get cov(X,Y)\n",
    "cor = cor_matrix[0, 1]\n",
    "print(f'Correlation: {cor:.4f}')"
   ]
  },
  {
   "cell_type": "markdown",
   "id": "f4e8ba32",
   "metadata": {},
   "source": [
    "<div class=\"alert alert-block alert-info\"> <b>YOUR TURN!</b> Compute the correlation matrix between the opening stock price and daily trading volume. Then, extract the correlation between the two variables.</div> \n",
    "\n",
    "<div class=\"alert alert-block alert-warning\"> <b>DISCUSS!</b> <b>Interpret the value of the correlation coefficient.</b></div> "
   ]
  },
  {
   "cell_type": "code",
   "execution_count": 9,
   "id": "529a213d",
   "metadata": {},
   "outputs": [
    {
     "name": "stdout",
     "output_type": "stream",
     "text": [
      "Correlation matrix: \n",
      " [[ 1.         -0.14000441]\n",
      " [-0.14000441  1.        ]] \n",
      "\n"
     ]
    }
   ],
   "source": [
    "# compute correlation matrix\n",
    "cor_matrix = np.corrcoef(open, volume)\n",
    "print(f'Correlation matrix: \\n {cor_matrix} \\n')"
   ]
  },
  {
   "cell_type": "code",
   "execution_count": 10,
   "id": "e6108466-441e-43c1-bada-35afddd86406",
   "metadata": {},
   "outputs": [
    {
     "name": "stdout",
     "output_type": "stream",
     "text": [
      "Correlation: -0.1400\n"
     ]
    }
   ],
   "source": [
    "# get cov(X,Y)\n",
    "cor = cor_matrix[0, 1]\n",
    "print(f'Correlation: {cor:.4f}')"
   ]
  },
  {
   "cell_type": "markdown",
   "id": "ae5ddacb",
   "metadata": {},
   "source": [
    "<div class=\"alert alert-block alert-info\"> <b>YOUR TURN!</b> Create a scatter plot of the trading volume (y) versus opening price (x). Label the axes.</div> "
   ]
  },
  {
   "cell_type": "code",
   "execution_count": 11,
   "id": "3ff10418",
   "metadata": {},
   "outputs": [
    {
     "data": {
      "image/png": "[encoded data removed]",
      "text/plain": [
       "<Figure size 640x480 with 1 Axes>"
      ]
     },
     "metadata": {},
     "output_type": "display_data"
    }
   ],
   "source": [
    "import matplotlib.pyplot as plt\n",
    "\n",
    "# create the scatter plot\n",
    "plt.scatter(open, volume)\n",
    "\n",
    "# label the axes\n",
    "plt.xlabel('Opening Price ($)')\n",
    "plt.ylabel('Trading Volume (shares)')\n",
    "\n",
    "plt.show()"
   ]
  }
 ],
 "metadata": {
  "kernelspec": {
   "display_name": "Python 3 (ipykernel)",
   "language": "python",
   "name": "python3"
  },
  "language_info": {
   "codemirror_mode": {
    "name": "ipython",
    "version": 3
   },
   "file_extension": ".py",
   "mimetype": "text/x-python",
   "name": "python",
   "nbconvert_exporter": "python",
   "pygments_lexer": "ipython3",
   "version": "3.11.11"
  },
  "widgets": {
   "application/vnd.jupyter.widget-state+json": {
    "state": {},
    "version_major": 2,
    "version_minor": 0
   }
  }
 },
 "nbformat": 4,
 "nbformat_minor": 5
}
